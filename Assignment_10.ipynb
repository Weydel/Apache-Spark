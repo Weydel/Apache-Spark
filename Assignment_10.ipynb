{
  "nbformat": 4,
  "nbformat_minor": 0,
  "metadata": {
    "colab": {
      "provenance": [],
      "authorship_tag": "ABX9TyM/APRb5OqLlKU3iBYQAmAI",
      "include_colab_link": true
    },
    "kernelspec": {
      "name": "python3",
      "display_name": "Python 3"
    },
    "language_info": {
      "name": "python"
    }
  },
  "cells": [
    {
      "cell_type": "markdown",
      "metadata": {
        "id": "view-in-github",
        "colab_type": "text"
      },
      "source": [
        "<a href=\"https://colab.research.google.com/github/Weydel/Apache-Spark/blob/main/Assignment_10.ipynb\" target=\"_parent\"><img src=\"https://colab.research.google.com/assets/colab-badge.svg\" alt=\"Open In Colab\"/></a>"
      ]
    },
    {
      "cell_type": "markdown",
      "source": [
        "# `Python Basic Programming Assignment 10`"
      ],
      "metadata": {
        "id": "x58XzwaCDoZS"
      }
    },
    {
      "cell_type": "markdown",
      "source": [
        "### 1. Write a Python program to find sum of elements in list?\n",
        "------------------------------------"
      ],
      "metadata": {
        "id": "xYWDH3YeH6fA"
      }
    },
    {
      "cell_type": "code",
      "source": [
        "def sum_numbers (numbers_list):\n",
        "    total = 0\n",
        "    for num in numbers_list:\n",
        "        total += num\n",
        "    return total\n",
        "\n",
        "try:\n",
        "    # Example list of numbers\n",
        "    numbers = [2, 4, 1, 5, 6, 7]\n",
        "\n",
        "    # Call the function and print the result\n",
        "    total_sum = sum_numbers(numbers)\n",
        "\n",
        "    print(\"The sum of the numbers is: \", total_sum)\n",
        "except Exception as err:\n",
        "    print(\"Failed Execution! \", str(err))"
      ],
      "metadata": {
        "colab": {
          "base_uri": "https://localhost:8080/"
        },
        "id": "_JOed5z2kY7h",
        "outputId": "eb8250c4-96cc-4b35-95ab-f1d05e3ec739"
      },
      "execution_count": 23,
      "outputs": [
        {
          "output_type": "stream",
          "name": "stdout",
          "text": [
            "The sum of the numbers is:  25\n"
          ]
        }
      ]
    },
    {
      "cell_type": "markdown",
      "source": [
        "### 2. Write a Python program to  Multiply all numbers in the list?\n",
        "------------------------------------"
      ],
      "metadata": {
        "id": "3HbsNFj5KiFq"
      }
    },
    {
      "cell_type": "code",
      "source": [
        "def multiply_numbers(numbers_list):\n",
        "    result = 1\n",
        "    for num in numbers_list:\n",
        "        result *= num\n",
        "    return result\n",
        "\n",
        "# Example list of numbers\n",
        "numbers = [2, 4, 1, 5, 6, 7]\n",
        "\n",
        "# Call the function and print the result\n",
        "product = multiply_numbers(numbers)\n",
        "print(\"The product of the numbers is:\", product)"
      ],
      "metadata": {
        "colab": {
          "base_uri": "https://localhost:8080/"
        },
        "id": "A0K1LeqsIOQA",
        "outputId": "45477bf7-1027-4944-bc84-207423086686"
      },
      "execution_count": 24,
      "outputs": [
        {
          "output_type": "stream",
          "name": "stdout",
          "text": [
            "The product of the numbers is: 1680\n"
          ]
        }
      ]
    },
    {
      "cell_type": "markdown",
      "source": [
        "### 3. Write a Python program to find smallest number in a list?\n",
        "---------------------------------"
      ],
      "metadata": {
        "id": "scY2ANe3pRDI"
      }
    },
    {
      "cell_type": "code",
      "source": [
        "def small_number(number_list):\n",
        "    minimum = number_list[0]\n",
        "    for i in number_list:\n",
        "      if i < minimum:\n",
        "          minimum = i\n",
        "    return minimum\n",
        "\n",
        "# Example list of numbers\n",
        "numbers = [2, 0, 1, 1235, 6, -7123]\n",
        "\n",
        "# Call the function and print the result\n",
        "smallest_num = small_number(numbers)\n",
        "print(\"The Smallest number in the list is: \", smallest_num)\n",
        ""
      ],
      "metadata": {
        "colab": {
          "base_uri": "https://localhost:8080/"
        },
        "id": "qXeMFKgJIOUR",
        "outputId": "bafc39ae-1df6-4eeb-e222-7221d01c5262"
      },
      "execution_count": 29,
      "outputs": [
        {
          "output_type": "stream",
          "name": "stdout",
          "text": [
            "The Smallest number in the list is:  -7123\n"
          ]
        }
      ]
    },
    {
      "cell_type": "markdown",
      "source": [
        "### 4. Write a Python program to find largest number in a list?\n",
        "------------------------------------"
      ],
      "metadata": {
        "id": "N7qzhBvHtoQ6"
      }
    },
    {
      "cell_type": "code",
      "source": [
        "def big_num(number_list):\n",
        "    maximum = number_list[0]\n",
        "    for i in number_list:\n",
        "      if i > maximum:\n",
        "          maximum = i\n",
        "    return maximum\n",
        "\n",
        "# Example list of numbers\n",
        "numbers = [2, 0, 1, 1235, 6, -7123]\n",
        "\n",
        "# Call the function and print the result\n",
        "largest_num = big_num(numbers)\n",
        "print(\"The Largest number in the list is: \", largest_num)"
      ],
      "metadata": {
        "colab": {
          "base_uri": "https://localhost:8080/"
        },
        "id": "HzQMNDwMIOXH",
        "outputId": "6b8b4478-7384-4957-b8fc-ead45368bd5c"
      },
      "execution_count": 32,
      "outputs": [
        {
          "output_type": "stream",
          "name": "stdout",
          "text": [
            "The Largest number in the list is:  1235\n"
          ]
        }
      ]
    },
    {
      "cell_type": "markdown",
      "source": [
        "### 5. Write a Python program to find second largest number in a list?\n",
        "-------------------------------"
      ],
      "metadata": {
        "id": "rmiJEJSgvJHW"
      }
    },
    {
      "cell_type": "code",
      "source": [
        "numbers = [2, 0, 1, 1235, 6, -7123]\n",
        "numbers.sort(reverse=True)\n",
        "\n",
        "print(\"The Second Largest Number is: \", numbers[1])"
      ],
      "metadata": {
        "colab": {
          "base_uri": "https://localhost:8080/"
        },
        "id": "88TTl30mIOat",
        "outputId": "b7281815-2367-4b3f-8200-0ddac7dcb1fd"
      },
      "execution_count": 41,
      "outputs": [
        {
          "output_type": "stream",
          "name": "stdout",
          "text": [
            "The Second Largest Number is:  6\n"
          ]
        }
      ]
    },
    {
      "cell_type": "markdown",
      "source": [
        "### 6. Write a Python program to find N largest elements from a list?\n",
        "----------------------"
      ],
      "metadata": {
        "id": "dpYWczPG32Ju"
      }
    },
    {
      "cell_type": "code",
      "source": [
        "def find_n_largest_elements(lst, n):\n",
        "    if n > len(lst):\n",
        "        return \"N is larger than the list size\"\n",
        "\n",
        "    lst.sort(reverse=True)\n",
        "    n_largest = lst[n-1]\n",
        "    return n_largest\n",
        "\n",
        "try:\n",
        "    # Example usage\n",
        "    input_list = [23, 45, 12, 6, 67, 34, 89, 54, 21]\n",
        "    N = 9\n",
        "    result = find_n_largest_elements(input_list, N)\n",
        "    print(f\"The {N} largest elements is: {result}\")\n",
        "except Exception as err:\n",
        "    print(\"Failed Execution!\", str(err))"
      ],
      "metadata": {
        "colab": {
          "base_uri": "https://localhost:8080/"
        },
        "id": "y-tkbs9uIOgH",
        "outputId": "5f8a6064-757c-4c3b-a2f7-e5f3e2c8b391"
      },
      "execution_count": 57,
      "outputs": [
        {
          "output_type": "stream",
          "name": "stdout",
          "text": [
            "The 9 largest elements is: 6\n"
          ]
        }
      ]
    },
    {
      "cell_type": "markdown",
      "source": [
        "### 7. Write a Python program to print even numbers in a list?\n",
        "----------------------"
      ],
      "metadata": {
        "id": "5Aso_Ytc_Ggc"
      }
    },
    {
      "cell_type": "code",
      "source": [
        "def even_num(lst):\n",
        "    for i in lst:\n",
        "      if i % 2 == 0:\n",
        "        print(i)\n",
        "\n",
        "try:\n",
        "    # Example usage\n",
        "    num_lst = [23, 45, 12, 6, 67, 34, 89, 54, 21]\n",
        "\n",
        "    # Call the function and print the result\n",
        "    print(\"Even numbers are: \")\n",
        "    even_num(num_lst)\n",
        "except Exception as err:\n",
        "    print(\"Failed Execution!\", str(err))"
      ],
      "metadata": {
        "colab": {
          "base_uri": "https://localhost:8080/"
        },
        "id": "o7PBcoYwIOmN",
        "outputId": "aa68d968-04b4-4be0-c049-6cc52a60ce75"
      },
      "execution_count": 66,
      "outputs": [
        {
          "output_type": "stream",
          "name": "stdout",
          "text": [
            "Even numbers are: \n",
            "12\n",
            "6\n",
            "34\n",
            "54\n"
          ]
        }
      ]
    },
    {
      "cell_type": "markdown",
      "source": [
        "### 8. Write a Python program to print odd numbers in a List?\n",
        "---------------------------"
      ],
      "metadata": {
        "id": "m7u5Xf1jEryu"
      }
    },
    {
      "cell_type": "code",
      "source": [
        "def odd_num(lst):\n",
        "    for i in lst:\n",
        "      if i % 2 == 1:\n",
        "        print(i)\n",
        "\n",
        "try:\n",
        "    # Example usage\n",
        "    num_lst = [23, 45, 12, 6, 67, 34, 89, 54, 21]\n",
        "\n",
        "    # Call the function and print the result\n",
        "    print(\"Odd numbers are: \")\n",
        "    even_num(num_lst)\n",
        "except Exception as err:\n",
        "    print(\"Failed Execution!\", str(err))"
      ],
      "metadata": {
        "colab": {
          "base_uri": "https://localhost:8080/"
        },
        "id": "H1AxXBN7_EvQ",
        "outputId": "89d9b046-1221-4713-d062-7ac4eefec396"
      },
      "execution_count": 72,
      "outputs": [
        {
          "output_type": "stream",
          "name": "stdout",
          "text": [
            "Odd numbers are: \n",
            "23\n",
            "45\n",
            "67\n",
            "89\n",
            "21\n"
          ]
        }
      ]
    },
    {
      "cell_type": "markdown",
      "source": [
        "### 9. Write a Python program to Remove empty List from List?\n",
        "---------------------------------"
      ],
      "metadata": {
        "id": "kD1FysdqFKdR"
      }
    },
    {
      "cell_type": "code",
      "source": [
        "def remove_empty_lists(num_lst):\n",
        "    return [sublist for sublist in num_lst if sublist]\n",
        "\n",
        "try:\n",
        "    # Example usage\n",
        "    original_list = [1, [], 3, [], [], 6, 7, [], 9, 12, 31, [1,2, -23] , [1]]\n",
        "    result_list = remove_empty_lists(original_list)\n",
        "    print(\"Original List:\", original_list)\n",
        "    print(\"List after removing empty lists:\", result_list)\n",
        "except Exception as err:\n",
        "    print(\"Failed Execution!\", str(err))"
      ],
      "metadata": {
        "colab": {
          "base_uri": "https://localhost:8080/"
        },
        "id": "51_jazKt_Eyj",
        "outputId": "43aef29b-dc07-4de5-84f9-13c634cb2d0d"
      },
      "execution_count": 71,
      "outputs": [
        {
          "output_type": "stream",
          "name": "stdout",
          "text": [
            "Original List: [1, [], 3, [], [], 6, 7, [], 9, 12, 31, [1, 2, -23], [1]]\n",
            "List after removing empty lists: [1, 3, 6, 7, 9, 12, 31, [1, 2, -23], [1]]\n"
          ]
        }
      ]
    },
    {
      "cell_type": "markdown",
      "source": [
        "### 10. Write a Python program for Cloning or Copying a list?\n",
        "-------------------"
      ],
      "metadata": {
        "id": "G-V8M_DdLZje"
      }
    },
    {
      "cell_type": "code",
      "source": [
        "def clone_list(input_list):\n",
        "    # Using the slice operator to create a new list with the same elements\n",
        "    copy_list = []\n",
        "    for i in input_list:\n",
        "        copy_list.append(i)\n",
        "\n",
        "    return copy_list\n",
        "\n",
        "try:\n",
        "    # Original list\n",
        "    original_list = [2,1, 31, 3, 412, 3, 4667, [2,3,1]]\n",
        "\n",
        "    # Cloning the list\n",
        "    copy_list = clone_list(original_list)\n",
        "\n",
        "    # Printing the original and cloned lists\n",
        "    print(\"Original List:\", original_list)\n",
        "    print(\"Cloned List:\", copy_list)\n",
        "except Exception as err:\n",
        "    print(\"Failed Execution!\", str(err))"
      ],
      "metadata": {
        "colab": {
          "base_uri": "https://localhost:8080/"
        },
        "id": "3T4zMVBk_E4P",
        "outputId": "a4ce2a46-7591-4939-a554-0956b9a3ea54"
      },
      "execution_count": 78,
      "outputs": [
        {
          "output_type": "stream",
          "name": "stdout",
          "text": [
            "Original List: [2, 1, 31, 3, 412, 3, 4667, [2, 3, 1]]\n",
            "Cloned List: [2, 1, 31, 3, 412, 3, 4667, [2, 3, 1]]\n"
          ]
        }
      ]
    },
    {
      "cell_type": "markdown",
      "source": [
        "### 11. Write a Python program to Count occurrences of an element in a list?\n",
        "----------------------"
      ],
      "metadata": {
        "id": "ZpA2SCI0QLDj"
      }
    },
    {
      "cell_type": "code",
      "source": [
        "def occurrences(lst, element):\n",
        "    count = 0\n",
        "    for i in lst:\n",
        "        if i == element:\n",
        "            count += 1\n",
        "\n",
        "    return count\n",
        "\n",
        "try:\n",
        "    # Example usage\n",
        "    l = [1,1,1, 3, 4, 1, 7, 8, 6,6,2,1]\n",
        "    N = 1\n",
        "    #call the function and print the result\n",
        "    occurrences = occurrences(l, N)\n",
        "\n",
        "    print(\"Occurence of Element\", N, \"is:\" , occurrences)\n",
        "except Exception as err:\n",
        "    print(\"Failed Execution!\", str(err))"
      ],
      "metadata": {
        "colab": {
          "base_uri": "https://localhost:8080/"
        },
        "id": "SWXIXSPoLiZN",
        "outputId": "61910c8b-43d1-4744-a927-87c30cd09746"
      },
      "execution_count": 9,
      "outputs": [
        {
          "output_type": "stream",
          "name": "stdout",
          "text": [
            "Occurence of Element 1 is: 5\n"
          ]
        }
      ]
    }
  ]
}